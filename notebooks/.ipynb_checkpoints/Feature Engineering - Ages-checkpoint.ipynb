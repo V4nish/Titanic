{
 "cells": [
  {
   "cell_type": "markdown",
   "metadata": {},
   "source": [
    "# Ages\n",
    "So, that got away from me!  Ages needs a whole notebook to itself to play and look at the data and options :)\n",
    "\n",
    "## Setup"
   ]
  },
  {
   "cell_type": "code",
   "execution_count": 7,
   "metadata": {},
   "outputs": [
    {
     "name": "stdout",
     "output_type": "stream",
     "text": [
      "Missing values Percentage: \n",
      "\n",
      " Cabin          77.5\n",
      "Survived       31.9\n",
      "Age            20.1\n",
      "Embarked        0.2\n",
      "Fare            0.1\n",
      "PassengerId     0.0\n",
      "Pclass          0.0\n",
      "Name            0.0\n",
      "Sex             0.0\n",
      "SibSp           0.0\n",
      "Parch           0.0\n",
      "Ticket          0.0\n",
      "dtype: float64\n"
     ]
    },
    {
     "name": "stderr",
     "output_type": "stream",
     "text": [
      "C:\\Users\\lyndo\\AppData\\Local\\Temp\\ipykernel_4296\\1203486354.py:14: FutureWarning: The frame.append method is deprecated and will be removed from pandas in a future version. Use pandas.concat instead.\n",
      "  combined=train_data.append(test_data)\n"
     ]
    }
   ],
   "source": [
    "# source: https://www.kaggle.com/code/allohvk/titanic-missing-age-imputation-tutorial-advanced\n",
    "# importing the stuff\n",
    "import pandas as pd\n",
    "import numpy as np\n",
    "\n",
    "# overriding the defaults for pandas: display.max_rows\n",
    "pd.set_option(\"display.max_rows\", None, \"display.max_columns\", None)\n",
    "\n",
    "# loading in the data\n",
    "test_data = pd.read_csv ('../data/raw/test.csv')\n",
    "train_data = pd.read_csv(\"../data/raw/train.csv\")\n",
    "\n",
    "# combining the datasets, this maybe stupid, maybe genius....\n",
    "combined=train_data.append(test_data)\n",
    "\n",
    "## analysing the data\n",
    "print('Missing values Percentage: \\n\\n', round (combined.isnull().sum().sort_values(ascending=False)/len(combined)*100,1))"
   ]
  },
  {
   "cell_type": "code",
   "execution_count": null,
   "metadata": {},
   "outputs": [],
   "source": []
  },
  {
   "cell_type": "code",
   "execution_count": null,
   "metadata": {},
   "outputs": [],
   "source": []
  }
 ],
 "metadata": {
  "kernelspec": {
   "display_name": "Python 3.10.5 64-bit",
   "language": "python",
   "name": "python3"
  },
  "language_info": {
   "codemirror_mode": {
    "name": "ipython",
    "version": 3
   },
   "file_extension": ".py",
   "mimetype": "text/x-python",
   "name": "python",
   "nbconvert_exporter": "python",
   "pygments_lexer": "ipython3",
   "version": "3.10.5"
  },
  "orig_nbformat": 4,
  "vscode": {
   "interpreter": {
    "hash": "d5c4324373a30f0902471aab9c462356d54bae5c5e132a640a9f9267409adb01"
   }
  }
 },
 "nbformat": 4,
 "nbformat_minor": 2
}
